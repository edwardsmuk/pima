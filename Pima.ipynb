{
 "cells": [
  {
   "cell_type": "code",
   "execution_count": 1,
   "metadata": {},
   "outputs": [],
   "source": [
    "import numpy as np\n",
    "import pandas as pd"
   ]
  },
  {
   "cell_type": "code",
   "execution_count": 2,
   "metadata": {},
   "outputs": [],
   "source": [
    "#1. Load Data\n",
    "data = pd.read_csv('pima-indians-diabetes.csv')"
   ]
  },
  {
   "cell_type": "code",
   "execution_count": 3,
   "metadata": {},
   "outputs": [
    {
     "data": {
      "text/plain": [
       "(768, 9)"
      ]
     },
     "execution_count": 3,
     "metadata": {},
     "output_type": "execute_result"
    }
   ],
   "source": [
    "#Dimensionality\n",
    "data.shape"
   ]
  },
  {
   "cell_type": "code",
   "execution_count": 4,
   "metadata": {},
   "outputs": [
    {
     "data": {
      "text/html": [
       "<div>\n",
       "<style scoped>\n",
       "    .dataframe tbody tr th:only-of-type {\n",
       "        vertical-align: middle;\n",
       "    }\n",
       "\n",
       "    .dataframe tbody tr th {\n",
       "        vertical-align: top;\n",
       "    }\n",
       "\n",
       "    .dataframe thead th {\n",
       "        text-align: right;\n",
       "    }\n",
       "</style>\n",
       "<table border=\"1\" class=\"dataframe\">\n",
       "  <thead>\n",
       "    <tr style=\"text-align: right;\">\n",
       "      <th></th>\n",
       "      <th>Pregnancies</th>\n",
       "      <th>Glucose</th>\n",
       "      <th>BloodPressure</th>\n",
       "      <th>SkinThickness</th>\n",
       "      <th>Insulin</th>\n",
       "      <th>BMI</th>\n",
       "      <th>DiabetesPedigreeFunction</th>\n",
       "      <th>Age</th>\n",
       "      <th>Outcome</th>\n",
       "    </tr>\n",
       "  </thead>\n",
       "  <tbody>\n",
       "    <tr>\n",
       "      <th>0</th>\n",
       "      <td>6</td>\n",
       "      <td>148</td>\n",
       "      <td>72</td>\n",
       "      <td>35</td>\n",
       "      <td>0</td>\n",
       "      <td>33.6</td>\n",
       "      <td>0.627</td>\n",
       "      <td>50</td>\n",
       "      <td>1</td>\n",
       "    </tr>\n",
       "    <tr>\n",
       "      <th>1</th>\n",
       "      <td>1</td>\n",
       "      <td>85</td>\n",
       "      <td>66</td>\n",
       "      <td>29</td>\n",
       "      <td>0</td>\n",
       "      <td>26.6</td>\n",
       "      <td>0.351</td>\n",
       "      <td>31</td>\n",
       "      <td>0</td>\n",
       "    </tr>\n",
       "    <tr>\n",
       "      <th>2</th>\n",
       "      <td>8</td>\n",
       "      <td>183</td>\n",
       "      <td>64</td>\n",
       "      <td>0</td>\n",
       "      <td>0</td>\n",
       "      <td>23.3</td>\n",
       "      <td>0.672</td>\n",
       "      <td>32</td>\n",
       "      <td>1</td>\n",
       "    </tr>\n",
       "    <tr>\n",
       "      <th>3</th>\n",
       "      <td>1</td>\n",
       "      <td>89</td>\n",
       "      <td>66</td>\n",
       "      <td>23</td>\n",
       "      <td>94</td>\n",
       "      <td>28.1</td>\n",
       "      <td>0.167</td>\n",
       "      <td>21</td>\n",
       "      <td>0</td>\n",
       "    </tr>\n",
       "    <tr>\n",
       "      <th>4</th>\n",
       "      <td>0</td>\n",
       "      <td>137</td>\n",
       "      <td>40</td>\n",
       "      <td>35</td>\n",
       "      <td>168</td>\n",
       "      <td>43.1</td>\n",
       "      <td>2.288</td>\n",
       "      <td>33</td>\n",
       "      <td>1</td>\n",
       "    </tr>\n",
       "  </tbody>\n",
       "</table>\n",
       "</div>"
      ],
      "text/plain": [
       "   Pregnancies  Glucose  BloodPressure  SkinThickness  Insulin   BMI  \\\n",
       "0            6      148             72             35        0  33.6   \n",
       "1            1       85             66             29        0  26.6   \n",
       "2            8      183             64              0        0  23.3   \n",
       "3            1       89             66             23       94  28.1   \n",
       "4            0      137             40             35      168  43.1   \n",
       "\n",
       "   DiabetesPedigreeFunction  Age  Outcome  \n",
       "0                     0.627   50        1  \n",
       "1                     0.351   31        0  \n",
       "2                     0.672   32        1  \n",
       "3                     0.167   21        0  \n",
       "4                     2.288   33        1  "
      ]
     },
     "execution_count": 4,
     "metadata": {},
     "output_type": "execute_result"
    }
   ],
   "source": [
    "#Top 5 records\n",
    "data.head()"
   ]
  },
  {
   "cell_type": "code",
   "execution_count": 5,
   "metadata": {},
   "outputs": [
    {
     "data": {
      "text/plain": [
       "Pregnancies                   int64\n",
       "Glucose                       int64\n",
       "BloodPressure                 int64\n",
       "SkinThickness                 int64\n",
       "Insulin                       int64\n",
       "BMI                         float64\n",
       "DiabetesPedigreeFunction    float64\n",
       "Age                           int64\n",
       "Outcome                       int64\n",
       "dtype: object"
      ]
     },
     "execution_count": 5,
     "metadata": {},
     "output_type": "execute_result"
    }
   ],
   "source": [
    "data.dtypes"
   ]
  },
  {
   "cell_type": "code",
   "execution_count": 6,
   "metadata": {},
   "outputs": [],
   "source": [
    "x = data.drop(\"Outcome\", axis=1)\n",
    "y = data[\"Outcome\"]"
   ]
  },
  {
   "cell_type": "code",
   "execution_count": 7,
   "metadata": {},
   "outputs": [],
   "source": [
    "#Lets split the dataset to train and test the model\n",
    "from sklearn.model_selection import train_test_split\n",
    "x_train, x_test, y_train, y_test = train_test_split(x, y, random_state=0)"
   ]
  },
  {
   "cell_type": "code",
   "execution_count": 8,
   "metadata": {},
   "outputs": [
    {
     "data": {
      "text/plain": [
       "(576, 8)"
      ]
     },
     "execution_count": 8,
     "metadata": {},
     "output_type": "execute_result"
    }
   ],
   "source": [
    "x_train.shape"
   ]
  },
  {
   "cell_type": "code",
   "execution_count": 9,
   "metadata": {},
   "outputs": [
    {
     "data": {
      "text/html": [
       "<div>\n",
       "<style scoped>\n",
       "    .dataframe tbody tr th:only-of-type {\n",
       "        vertical-align: middle;\n",
       "    }\n",
       "\n",
       "    .dataframe tbody tr th {\n",
       "        vertical-align: top;\n",
       "    }\n",
       "\n",
       "    .dataframe thead th {\n",
       "        text-align: right;\n",
       "    }\n",
       "</style>\n",
       "<table border=\"1\" class=\"dataframe\">\n",
       "  <thead>\n",
       "    <tr style=\"text-align: right;\">\n",
       "      <th></th>\n",
       "      <th>Pregnancies</th>\n",
       "      <th>Glucose</th>\n",
       "      <th>BloodPressure</th>\n",
       "      <th>SkinThickness</th>\n",
       "      <th>Insulin</th>\n",
       "      <th>BMI</th>\n",
       "      <th>DiabetesPedigreeFunction</th>\n",
       "      <th>Age</th>\n",
       "    </tr>\n",
       "  </thead>\n",
       "  <tbody>\n",
       "    <tr>\n",
       "      <th>762</th>\n",
       "      <td>9</td>\n",
       "      <td>89</td>\n",
       "      <td>62</td>\n",
       "      <td>0</td>\n",
       "      <td>0</td>\n",
       "      <td>22.5</td>\n",
       "      <td>0.142</td>\n",
       "      <td>33</td>\n",
       "    </tr>\n",
       "    <tr>\n",
       "      <th>127</th>\n",
       "      <td>1</td>\n",
       "      <td>118</td>\n",
       "      <td>58</td>\n",
       "      <td>36</td>\n",
       "      <td>94</td>\n",
       "      <td>33.3</td>\n",
       "      <td>0.261</td>\n",
       "      <td>23</td>\n",
       "    </tr>\n",
       "    <tr>\n",
       "      <th>564</th>\n",
       "      <td>0</td>\n",
       "      <td>91</td>\n",
       "      <td>80</td>\n",
       "      <td>0</td>\n",
       "      <td>0</td>\n",
       "      <td>32.4</td>\n",
       "      <td>0.601</td>\n",
       "      <td>27</td>\n",
       "    </tr>\n",
       "    <tr>\n",
       "      <th>375</th>\n",
       "      <td>12</td>\n",
       "      <td>140</td>\n",
       "      <td>82</td>\n",
       "      <td>43</td>\n",
       "      <td>325</td>\n",
       "      <td>39.2</td>\n",
       "      <td>0.528</td>\n",
       "      <td>58</td>\n",
       "    </tr>\n",
       "    <tr>\n",
       "      <th>663</th>\n",
       "      <td>9</td>\n",
       "      <td>145</td>\n",
       "      <td>80</td>\n",
       "      <td>46</td>\n",
       "      <td>130</td>\n",
       "      <td>37.9</td>\n",
       "      <td>0.637</td>\n",
       "      <td>40</td>\n",
       "    </tr>\n",
       "  </tbody>\n",
       "</table>\n",
       "</div>"
      ],
      "text/plain": [
       "     Pregnancies  Glucose  BloodPressure  SkinThickness  Insulin   BMI  \\\n",
       "762            9       89             62              0        0  22.5   \n",
       "127            1      118             58             36       94  33.3   \n",
       "564            0       91             80              0        0  32.4   \n",
       "375           12      140             82             43      325  39.2   \n",
       "663            9      145             80             46      130  37.9   \n",
       "\n",
       "     DiabetesPedigreeFunction  Age  \n",
       "762                     0.142   33  \n",
       "127                     0.261   23  \n",
       "564                     0.601   27  \n",
       "375                     0.528   58  \n",
       "663                     0.637   40  "
      ]
     },
     "execution_count": 9,
     "metadata": {},
     "output_type": "execute_result"
    }
   ],
   "source": [
    "x_train.head()"
   ]
  },
  {
   "cell_type": "code",
   "execution_count": 10,
   "metadata": {},
   "outputs": [],
   "source": [
    "#converting all labels to numpy arrays\n",
    "# To fix WARNING:tensorflow:Falling back from v2 loop because of error: \n",
    "#Failed to find data adapter that can handle input: <class 'pandas.core.frame.DataFrame'>, <class 'NoneType'>\n",
    "\n",
    "x_train = np.asarray(x_train)\n",
    "x_test = np.asarray(x_test)\n",
    "y_train = np.asarray(y_train)\n",
    "y_test = np.asarray(y_test)"
   ]
  },
  {
   "cell_type": "code",
   "execution_count": 11,
   "metadata": {},
   "outputs": [],
   "source": [
    "#Fixing OMP: Error #15: Initializing libiomp5.dylib, but found libomp.dylib already initialized.\n",
    "import os\n",
    "\n",
    "os.environ['KMP_DUPLICATE_LIB_OK']='True'"
   ]
  },
  {
   "cell_type": "code",
   "execution_count": 12,
   "metadata": {},
   "outputs": [],
   "source": [
    "# 2. Define Keras Model"
   ]
  },
  {
   "cell_type": "code",
   "execution_count": 50,
   "metadata": {},
   "outputs": [],
   "source": [
    "#import tensorflow as tf\n",
    "#from tensorflow import keras\n",
    "import tensorflow\n",
    "from tensorflow.keras.models import Sequential\n",
    "from tensorflow.keras.layers import Dense\n",
    "model = Sequential()\n",
    "model.add(Dense(12, input_dim=8, activation=\"relu\"))\n",
    "model.add(Dense(8, activation=\"relu\"))\n",
    "model.add(Dense(1, activation=\"sigmoid\"))"
   ]
  },
  {
   "cell_type": "code",
   "execution_count": 51,
   "metadata": {},
   "outputs": [],
   "source": [
    "# 3.  Compile The Keras Model"
   ]
  },
  {
   "cell_type": "code",
   "execution_count": 52,
   "metadata": {},
   "outputs": [],
   "source": [
    "model.compile(loss=\"binary_crossentropy\", optimizer=\"adam\", metrics=[\"accuracy\"])"
   ]
  },
  {
   "cell_type": "code",
   "execution_count": 53,
   "metadata": {},
   "outputs": [],
   "source": [
    "#4. Start Training (Fit the Model)"
   ]
  },
  {
   "cell_type": "code",
   "execution_count": 54,
   "metadata": {},
   "outputs": [
    {
     "name": "stdout",
     "output_type": "stream",
     "text": [
      "Train on 576 samples\n",
      "Epoch 1/120\n",
      "576/576 [==============================] - 1s 2ms/sample - loss: 7.8700 - accuracy: 0.5538\n",
      "Epoch 2/120\n",
      "576/576 [==============================] - 0s 225us/sample - loss: 1.2090 - accuracy: 0.6007\n",
      "Epoch 3/120\n",
      "576/576 [==============================] - 0s 229us/sample - loss: 0.9284 - accuracy: 0.6042\n",
      "Epoch 4/120\n",
      "576/576 [==============================] - 0s 236us/sample - loss: 0.7935 - accuracy: 0.6007\n",
      "Epoch 5/120\n",
      "576/576 [==============================] - 0s 231us/sample - loss: 0.7546 - accuracy: 0.6319\n",
      "Epoch 6/120\n",
      "576/576 [==============================] - 0s 232us/sample - loss: 0.7221 - accuracy: 0.6441\n",
      "Epoch 7/120\n",
      "576/576 [==============================] - 0s 240us/sample - loss: 0.7882 - accuracy: 0.6302\n",
      "Epoch 8/120\n",
      "576/576 [==============================] - 0s 246us/sample - loss: 0.6969 - accuracy: 0.6667\n",
      "Epoch 9/120\n",
      "576/576 [==============================] - 0s 233us/sample - loss: 0.6952 - accuracy: 0.6424\n",
      "Epoch 10/120\n",
      "576/576 [==============================] - 0s 237us/sample - loss: 0.6745 - accuracy: 0.6701\n",
      "Epoch 11/120\n",
      "576/576 [==============================] - 0s 237us/sample - loss: 0.6876 - accuracy: 0.6597\n",
      "Epoch 12/120\n",
      "576/576 [==============================] - 0s 241us/sample - loss: 0.6756 - accuracy: 0.6528\n",
      "Epoch 13/120\n",
      "576/576 [==============================] - 0s 240us/sample - loss: 0.6392 - accuracy: 0.6788\n",
      "Epoch 14/120\n",
      "576/576 [==============================] - 0s 260us/sample - loss: 0.6985 - accuracy: 0.6632\n",
      "Epoch 15/120\n",
      "576/576 [==============================] - 0s 266us/sample - loss: 0.6896 - accuracy: 0.6615\n",
      "Epoch 16/120\n",
      "576/576 [==============================] - 0s 271us/sample - loss: 0.6346 - accuracy: 0.6753\n",
      "Epoch 17/120\n",
      "576/576 [==============================] - 0s 269us/sample - loss: 0.6570 - accuracy: 0.6510\n",
      "Epoch 18/120\n",
      "576/576 [==============================] - 0s 262us/sample - loss: 0.6748 - accuracy: 0.6701\n",
      "Epoch 19/120\n",
      "576/576 [==============================] - 0s 261us/sample - loss: 0.6576 - accuracy: 0.6719\n",
      "Epoch 20/120\n",
      "576/576 [==============================] - 0s 274us/sample - loss: 0.6385 - accuracy: 0.6840\n",
      "Epoch 21/120\n",
      "576/576 [==============================] - 0s 314us/sample - loss: 0.6377 - accuracy: 0.6962\n",
      "Epoch 22/120\n",
      "576/576 [==============================] - 0s 270us/sample - loss: 0.5940 - accuracy: 0.6962\n",
      "Epoch 23/120\n",
      "576/576 [==============================] - 0s 266us/sample - loss: 0.6143 - accuracy: 0.6892\n",
      "Epoch 24/120\n",
      "576/576 [==============================] - 0s 256us/sample - loss: 0.6018 - accuracy: 0.7031\n",
      "Epoch 25/120\n",
      "576/576 [==============================] - 0s 259us/sample - loss: 0.6711 - accuracy: 0.6615\n",
      "Epoch 26/120\n",
      "576/576 [==============================] - 0s 273us/sample - loss: 0.6324 - accuracy: 0.7101\n",
      "Epoch 27/120\n",
      "576/576 [==============================] - 0s 301us/sample - loss: 0.6256 - accuracy: 0.6927\n",
      "Epoch 28/120\n",
      "576/576 [==============================] - 0s 265us/sample - loss: 0.6182 - accuracy: 0.6997\n",
      "Epoch 29/120\n",
      "576/576 [==============================] - 0s 258us/sample - loss: 0.5791 - accuracy: 0.7222\n",
      "Epoch 30/120\n",
      "576/576 [==============================] - 0s 263us/sample - loss: 0.5962 - accuracy: 0.6892\n",
      "Epoch 31/120\n",
      "576/576 [==============================] - 0s 262us/sample - loss: 0.6029 - accuracy: 0.6944\n",
      "Epoch 32/120\n",
      "576/576 [==============================] - 0s 273us/sample - loss: 0.5820 - accuracy: 0.7135\n",
      "Epoch 33/120\n",
      "576/576 [==============================] - 0s 272us/sample - loss: 0.5804 - accuracy: 0.7118\n",
      "Epoch 34/120\n",
      "576/576 [==============================] - 0s 288us/sample - loss: 0.6033 - accuracy: 0.7049\n",
      "Epoch 35/120\n",
      "576/576 [==============================] - 0s 271us/sample - loss: 0.5807 - accuracy: 0.7153\n",
      "Epoch 36/120\n",
      "576/576 [==============================] - 0s 270us/sample - loss: 0.6470 - accuracy: 0.6684\n",
      "Epoch 37/120\n",
      "576/576 [==============================] - 0s 270us/sample - loss: 0.5606 - accuracy: 0.7066\n",
      "Epoch 38/120\n",
      "576/576 [==============================] - 0s 270us/sample - loss: 0.5621 - accuracy: 0.7222\n",
      "Epoch 39/120\n",
      "576/576 [==============================] - 0s 267us/sample - loss: 0.5753 - accuracy: 0.7222\n",
      "Epoch 40/120\n",
      "576/576 [==============================] - 0s 306us/sample - loss: 0.5672 - accuracy: 0.7240\n",
      "Epoch 41/120\n",
      "576/576 [==============================] - 0s 280us/sample - loss: 0.5618 - accuracy: 0.7361\n",
      "Epoch 42/120\n",
      "576/576 [==============================] - 0s 305us/sample - loss: 0.6696 - accuracy: 0.6840\n",
      "Epoch 43/120\n",
      "576/576 [==============================] - 0s 303us/sample - loss: 0.5849 - accuracy: 0.7240\n",
      "Epoch 44/120\n",
      "576/576 [==============================] - 0s 294us/sample - loss: 0.5973 - accuracy: 0.7101\n",
      "Epoch 45/120\n",
      "576/576 [==============================] - 0s 313us/sample - loss: 0.6155 - accuracy: 0.7240\n",
      "Epoch 46/120\n",
      "576/576 [==============================] - 0s 342us/sample - loss: 0.5695 - accuracy: 0.7205\n",
      "Epoch 47/120\n",
      "576/576 [==============================] - 0s 313us/sample - loss: 0.6142 - accuracy: 0.7031\n",
      "Epoch 48/120\n",
      "576/576 [==============================] - 0s 297us/sample - loss: 0.5975 - accuracy: 0.6997\n",
      "Epoch 49/120\n",
      "576/576 [==============================] - 0s 305us/sample - loss: 0.6071 - accuracy: 0.7135\n",
      "Epoch 50/120\n",
      "576/576 [==============================] - 0s 307us/sample - loss: 0.6640 - accuracy: 0.6806\n",
      "Epoch 51/120\n",
      "576/576 [==============================] - 0s 317us/sample - loss: 0.5620 - accuracy: 0.7309\n",
      "Epoch 52/120\n",
      "576/576 [==============================] - 0s 317us/sample - loss: 0.5689 - accuracy: 0.7292\n",
      "Epoch 53/120\n",
      "576/576 [==============================] - 0s 324us/sample - loss: 0.5605 - accuracy: 0.7101\n",
      "Epoch 54/120\n",
      "576/576 [==============================] - 0s 312us/sample - loss: 0.5855 - accuracy: 0.7431\n",
      "Epoch 55/120\n",
      "576/576 [==============================] - 0s 297us/sample - loss: 0.5760 - accuracy: 0.7188\n",
      "Epoch 56/120\n",
      "576/576 [==============================] - 0s 302us/sample - loss: 0.5607 - accuracy: 0.7135\n",
      "Epoch 57/120\n",
      "576/576 [==============================] - 0s 340us/sample - loss: 0.5905 - accuracy: 0.7170\n",
      "Epoch 58/120\n",
      "576/576 [==============================] - 0s 339us/sample - loss: 0.5506 - accuracy: 0.7083\n",
      "Epoch 59/120\n",
      "576/576 [==============================] - 0s 333us/sample - loss: 0.5325 - accuracy: 0.7448\n",
      "Epoch 60/120\n",
      "576/576 [==============================] - 0s 334us/sample - loss: 0.5373 - accuracy: 0.7396\n",
      "Epoch 61/120\n",
      "576/576 [==============================] - 0s 328us/sample - loss: 0.5854 - accuracy: 0.7101\n",
      "Epoch 62/120\n",
      "576/576 [==============================] - 0s 335us/sample - loss: 0.5478 - accuracy: 0.7587\n",
      "Epoch 63/120\n",
      "576/576 [==============================] - 0s 312us/sample - loss: 0.5718 - accuracy: 0.7240\n",
      "Epoch 64/120\n",
      "576/576 [==============================] - 0s 318us/sample - loss: 0.5540 - accuracy: 0.7326\n",
      "Epoch 65/120\n",
      "576/576 [==============================] - 0s 318us/sample - loss: 0.6244 - accuracy: 0.7031\n",
      "Epoch 66/120\n",
      "576/576 [==============================] - 0s 313us/sample - loss: 0.5284 - accuracy: 0.7535\n",
      "Epoch 67/120\n",
      "576/576 [==============================] - 0s 315us/sample - loss: 0.5308 - accuracy: 0.7326\n",
      "Epoch 68/120\n",
      "576/576 [==============================] - 0s 326us/sample - loss: 0.5629 - accuracy: 0.7569\n",
      "Epoch 69/120\n",
      "576/576 [==============================] - 0s 328us/sample - loss: 0.5772 - accuracy: 0.7257\n",
      "Epoch 70/120\n",
      "576/576 [==============================] - 0s 336us/sample - loss: 0.5637 - accuracy: 0.7240\n",
      "Epoch 71/120\n",
      "576/576 [==============================] - 0s 334us/sample - loss: 0.6306 - accuracy: 0.6927\n",
      "Epoch 72/120\n",
      "576/576 [==============================] - 0s 377us/sample - loss: 0.5561 - accuracy: 0.7292\n",
      "Epoch 73/120\n",
      "576/576 [==============================] - 0s 347us/sample - loss: 0.5397 - accuracy: 0.7431\n",
      "Epoch 74/120\n",
      "576/576 [==============================] - 0s 339us/sample - loss: 0.5542 - accuracy: 0.7309\n",
      "Epoch 75/120\n",
      "576/576 [==============================] - 0s 332us/sample - loss: 0.6268 - accuracy: 0.7205\n",
      "Epoch 76/120\n",
      "576/576 [==============================] - 0s 354us/sample - loss: 0.5573 - accuracy: 0.7326\n",
      "Epoch 77/120\n",
      "576/576 [==============================] - 0s 361us/sample - loss: 0.5420 - accuracy: 0.7535\n",
      "Epoch 78/120\n"
     ]
    },
    {
     "name": "stdout",
     "output_type": "stream",
     "text": [
      "576/576 [==============================] - 0s 418us/sample - loss: 0.5085 - accuracy: 0.7622\n",
      "Epoch 79/120\n",
      "576/576 [==============================] - 0s 371us/sample - loss: 0.5193 - accuracy: 0.7483\n",
      "Epoch 80/120\n",
      "576/576 [==============================] - 0s 374us/sample - loss: 0.5445 - accuracy: 0.7413\n",
      "Epoch 81/120\n",
      "576/576 [==============================] - 0s 358us/sample - loss: 0.5101 - accuracy: 0.7517\n",
      "Epoch 82/120\n",
      "576/576 [==============================] - 0s 360us/sample - loss: 0.5308 - accuracy: 0.7604\n",
      "Epoch 83/120\n",
      "576/576 [==============================] - 0s 346us/sample - loss: 0.5187 - accuracy: 0.7361\n",
      "Epoch 84/120\n",
      "576/576 [==============================] - 0s 359us/sample - loss: 0.5401 - accuracy: 0.7344\n",
      "Epoch 85/120\n",
      "576/576 [==============================] - 0s 354us/sample - loss: 0.5639 - accuracy: 0.7361\n",
      "Epoch 86/120\n",
      "576/576 [==============================] - 0s 345us/sample - loss: 0.5310 - accuracy: 0.7413\n",
      "Epoch 87/120\n",
      "576/576 [==============================] - 0s 391us/sample - loss: 0.5032 - accuracy: 0.7674\n",
      "Epoch 88/120\n",
      "576/576 [==============================] - 0s 372us/sample - loss: 0.5384 - accuracy: 0.7535\n",
      "Epoch 89/120\n",
      "576/576 [==============================] - 0s 369us/sample - loss: 0.5200 - accuracy: 0.7517\n",
      "Epoch 90/120\n",
      "576/576 [==============================] - 0s 362us/sample - loss: 0.5082 - accuracy: 0.7361\n",
      "Epoch 91/120\n",
      "576/576 [==============================] - 0s 365us/sample - loss: 0.5144 - accuracy: 0.7465\n",
      "Epoch 92/120\n",
      "576/576 [==============================] - 0s 399us/sample - loss: 0.6130 - accuracy: 0.7118\n",
      "Epoch 93/120\n",
      "576/576 [==============================] - 0s 370us/sample - loss: 0.5428 - accuracy: 0.7274\n",
      "Epoch 94/120\n",
      "576/576 [==============================] - 0s 374us/sample - loss: 0.5520 - accuracy: 0.7378\n",
      "Epoch 95/120\n",
      "576/576 [==============================] - 0s 380us/sample - loss: 0.5480 - accuracy: 0.7465\n",
      "Epoch 96/120\n",
      "576/576 [==============================] - 0s 406us/sample - loss: 0.5181 - accuracy: 0.7448\n",
      "Epoch 97/120\n",
      "576/576 [==============================] - 0s 389us/sample - loss: 0.5120 - accuracy: 0.7691\n",
      "Epoch 98/120\n",
      "576/576 [==============================] - 0s 381us/sample - loss: 0.5536 - accuracy: 0.7378\n",
      "Epoch 99/120\n",
      "576/576 [==============================] - 0s 372us/sample - loss: 0.4994 - accuracy: 0.7604\n",
      "Epoch 100/120\n",
      "576/576 [==============================] - 0s 378us/sample - loss: 0.5379 - accuracy: 0.7517\n",
      "Epoch 101/120\n",
      "576/576 [==============================] - 0s 445us/sample - loss: 0.5212 - accuracy: 0.7378\n",
      "Epoch 102/120\n",
      "576/576 [==============================] - 0s 444us/sample - loss: 0.5195 - accuracy: 0.7378\n",
      "Epoch 103/120\n",
      "576/576 [==============================] - 0s 399us/sample - loss: 0.5836 - accuracy: 0.7413\n",
      "Epoch 104/120\n",
      "576/576 [==============================] - 0s 405us/sample - loss: 0.5452 - accuracy: 0.7517\n",
      "Epoch 105/120\n",
      "576/576 [==============================] - 0s 412us/sample - loss: 0.5507 - accuracy: 0.7326\n",
      "Epoch 106/120\n",
      "576/576 [==============================] - 0s 401us/sample - loss: 0.5096 - accuracy: 0.7569\n",
      "Epoch 107/120\n",
      "576/576 [==============================] - 0s 408us/sample - loss: 0.5482 - accuracy: 0.7465\n",
      "Epoch 108/120\n",
      "576/576 [==============================] - 0s 396us/sample - loss: 0.5177 - accuracy: 0.7622\n",
      "Epoch 109/120\n",
      "576/576 [==============================] - 0s 422us/sample - loss: 0.4939 - accuracy: 0.7569\n",
      "Epoch 110/120\n",
      "576/576 [==============================] - 0s 398us/sample - loss: 0.5052 - accuracy: 0.7517\n",
      "Epoch 111/120\n",
      "576/576 [==============================] - 0s 406us/sample - loss: 0.5013 - accuracy: 0.7674\n",
      "Epoch 112/120\n",
      "576/576 [==============================] - 0s 394us/sample - loss: 0.5197 - accuracy: 0.7604\n",
      "Epoch 113/120\n",
      "576/576 [==============================] - 0s 410us/sample - loss: 0.5099 - accuracy: 0.7726\n",
      "Epoch 114/120\n",
      "576/576 [==============================] - 0s 397us/sample - loss: 0.5084 - accuracy: 0.7483\n",
      "Epoch 115/120\n",
      "576/576 [==============================] - 0s 461us/sample - loss: 0.4946 - accuracy: 0.7604\n",
      "Epoch 116/120\n",
      "576/576 [==============================] - 0s 474us/sample - loss: 0.5062 - accuracy: 0.7517\n",
      "Epoch 117/120\n",
      "576/576 [==============================] - 0s 531us/sample - loss: 0.5019 - accuracy: 0.7448\n",
      "Epoch 118/120\n",
      "576/576 [==============================] - 0s 437us/sample - loss: 0.4922 - accuracy: 0.7726\n",
      "Epoch 119/120\n",
      "576/576 [==============================] - 0s 454us/sample - loss: 0.5186 - accuracy: 0.7639\n",
      "Epoch 120/120\n",
      "576/576 [==============================] - 0s 438us/sample - loss: 0.5189 - accuracy: 0.7639\n"
     ]
    },
    {
     "data": {
      "text/plain": [
       "<tensorflow.python.keras.callbacks.History at 0x1a476d9990>"
      ]
     },
     "execution_count": 54,
     "metadata": {},
     "output_type": "execute_result"
    }
   ],
   "source": [
    "model.fit(x_train,y_train, epochs=120, batch_size=10)"
   ]
  },
  {
   "cell_type": "code",
   "execution_count": 55,
   "metadata": {},
   "outputs": [],
   "source": [
    "#5. Step-5) Evaluate the Model"
   ]
  },
  {
   "cell_type": "code",
   "execution_count": 64,
   "metadata": {},
   "outputs": [
    {
     "name": "stdout",
     "output_type": "stream",
     "text": [
      "192/1 [================================================================================================================================================================================================================================================================================================================================================================================================================================================================================================================================================================================================================================================================================================================================================================================================================================================================================================================================================================================================================================================================================================================================================================================================================================================================================================================================================================================================================================================================================================================================================================================================================================================================================================================================================================================================================================================================================================================================================================================================================================================================================================================================================================================================================================================================================================================================================================================================================================================================================================================================================================================================================================================================================================================================================================================================================================================================================================================================================================================================================================================================================================================================================================================================================================================================================================================================================================================================================================================================================================================================================================================================================================================================================================================================================================================================================================================================================================================================================================================================================================================================================================================================================================================================================================================================================================================================================================================================================================================================================================================================================================================================================================================================================================================================================================================================================================================================================================================================================================================================================================================================================================================================================================================================================================================================================================================================================================================================================================================================================================================================================================================================================================================================================================================================================================================================================================================================================================================================================================================================] - 0s 219us/sample - loss: 0.5719 - accuracy: 0.7240\n",
      "Model accuracy: 72.40\n"
     ]
    }
   ],
   "source": [
    "_, accuracy = model.evaluate(x_test, y_test)\n",
    "print(\"Model accuracy: %.2f\"% (accuracy*100))"
   ]
  },
  {
   "cell_type": "code",
   "execution_count": 65,
   "metadata": {},
   "outputs": [],
   "source": [
    "#6. Step-6) Making Predictions"
   ]
  },
  {
   "cell_type": "code",
   "execution_count": 66,
   "metadata": {},
   "outputs": [
    {
     "name": "stdout",
     "output_type": "stream",
     "text": [
      "[1, 0, 0, 1, 0, 0, 1, 1, 0, 1, 1, 1, 0, 0, 1, 0, 1, 0, 0, 0, 1, 0, 1, 0, 0, 1, 0, 1, 0, 0, 0, 0, 0, 1, 0, 1, 0, 0, 0, 0, 0, 0, 0, 1, 1, 0, 0, 0, 0, 0, 0, 0, 1, 0, 0, 0, 0, 0, 0, 0, 0, 0, 0, 1, 0, 0, 1, 0, 1, 0, 0, 0, 0, 1, 1, 0, 0, 1, 0, 0, 0, 0, 0, 0, 0, 0, 0, 0, 1, 0, 0, 0, 0, 0, 0, 0, 0, 0, 0, 0, 0, 0, 0, 0, 1, 0, 0, 1, 0, 0, 0, 0, 1, 0, 0, 0, 0, 1, 0, 1, 0, 1, 0, 0, 0, 0, 0, 0, 1, 0, 0, 0, 0, 1, 0, 0, 1, 0, 1, 0, 0, 1, 0, 0, 0, 0, 0, 0, 0, 0, 0, 0, 0, 0, 1, 0, 0, 0, 0, 1, 0, 0, 0, 0, 1, 1, 0, 0, 0, 0, 0, 0, 0, 0, 0, 0, 0, 0, 0, 0, 0, 0, 0, 1, 0, 0, 1, 0, 1, 0, 0, 0]\n"
     ]
    }
   ],
   "source": [
    "#y_predicted = model.predict(x_test)\n",
    "y_predicted = model.predict_classes(x_test) #directly predict the classes\n",
    "#print([round(x_test[0]) for x_test in y_predicted])\n",
    "print([x_test[0] for x_test in y_predicted])"
   ]
  },
  {
   "cell_type": "code",
   "execution_count": 67,
   "metadata": {},
   "outputs": [
    {
     "name": "stdout",
     "output_type": "stream",
     "text": [
      "[[113  17]\n",
      " [ 36  26]]\n",
      "              precision    recall  f1-score   support\n",
      "\n",
      "           0       0.76      0.87      0.81       130\n",
      "           1       0.60      0.42      0.50        62\n",
      "\n",
      "    accuracy                           0.72       192\n",
      "   macro avg       0.68      0.64      0.65       192\n",
      "weighted avg       0.71      0.72      0.71       192\n",
      "\n"
     ]
    }
   ],
   "source": [
    "#Evaluating the accuracy of the model\n",
    "from sklearn import metrics\n",
    "#View Confusion matrix and classification report\n",
    "print(metrics.confusion_matrix(y_test, y_predicted))\n",
    "print(metrics.classification_report(y_test, y_predicted))"
   ]
  },
  {
   "cell_type": "code",
   "execution_count": 68,
   "metadata": {},
   "outputs": [
    {
     "name": "stdout",
     "output_type": "stream",
     "text": [
      "Actual:  [1 0 0 1 0 0 1 1 0 0 1 1 0 0 0 0 1 0 0 0 1 1 0 0 0 0 0 0 0 0 0 0 0 0 0]\n",
      "Predicted:  [1, 0, 0, 1, 0, 0, 1, 1, 0, 1, 1, 1, 0, 0, 1, 0, 1, 0, 0, 0, 1, 0, 1, 0, 0, 1, 0, 1, 0, 0, 0, 0, 0, 1, 0]\n"
     ]
    }
   ],
   "source": [
    "#Print the first 35 Actual and Predicted responses\n",
    "#print('Actual: ',  y_test.values[0:35] ) #this does not work after converting labels from dataFrames to numpy arrays\n",
    "print('Actual: ',  y_test[0:35] ) #this works after converting labels from dataFrame to numpy arrays\n",
    "print('Predicted: ', [ round(y_pred[0]) for y_pred in y_predicted[0:35] ])"
   ]
  },
  {
   "cell_type": "code",
   "execution_count": 69,
   "metadata": {},
   "outputs": [
    {
     "data": {
      "text/plain": [
       "(192, 1)"
      ]
     },
     "execution_count": 69,
     "metadata": {},
     "output_type": "execute_result"
    }
   ],
   "source": [
    "#ndarray shape for the predicted classes\n",
    "y_predicted.shape"
   ]
  },
  {
   "cell_type": "code",
   "execution_count": 70,
   "metadata": {},
   "outputs": [
    {
     "name": "stdout",
     "output_type": "stream",
     "text": [
      "[[1]\n",
      " [0]\n",
      " [0]\n",
      " [1]\n",
      " [0]]\n"
     ]
    }
   ],
   "source": [
    "print (y_predicted[0:5])"
   ]
  },
  {
   "cell_type": "code",
   "execution_count": 71,
   "metadata": {},
   "outputs": [
    {
     "name": "stdout",
     "output_type": "stream",
     "text": [
      "INFO:tensorflow:Assets written to: models/pima_model/assets\n",
      "Finished saving the model\n"
     ]
    }
   ],
   "source": [
    "# Lets same the model\n",
    "#model.save('models/pima_model', save_format='tf')\n",
    "tms_model = tensorflow.keras.models.save_model(model,'models/pima_model')\n",
    "print(\"Finished saving the model\")"
   ]
  },
  {
   "cell_type": "code",
   "execution_count": 72,
   "metadata": {},
   "outputs": [
    {
     "name": "stdout",
     "output_type": "stream",
     "text": [
      "2.0.0\n"
     ]
    }
   ],
   "source": [
    "print(tensorflow. __version__)"
   ]
  },
  {
   "cell_type": "code",
   "execution_count": null,
   "metadata": {},
   "outputs": [],
   "source": []
  }
 ],
 "metadata": {
  "kernelspec": {
   "display_name": "Python 3",
   "language": "python",
   "name": "python3"
  },
  "language_info": {
   "codemirror_mode": {
    "name": "ipython",
    "version": 3
   },
   "file_extension": ".py",
   "mimetype": "text/x-python",
   "name": "python",
   "nbconvert_exporter": "python",
   "pygments_lexer": "ipython3",
   "version": "3.7.7"
  }
 },
 "nbformat": 4,
 "nbformat_minor": 4
}
